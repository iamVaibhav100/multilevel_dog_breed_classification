{
  "nbformat": 4,
  "nbformat_minor": 0,
  "metadata": {
    "colab": {
      "provenance": [],
      "mount_file_id": "19E_uD4U2BFwZZWBqnLYoF71z_SrZgJo_",
      "authorship_tag": "ABX9TyPOhO348cXZ7Pn5of7LprLW",
      "include_colab_link": true
    },
    "kernelspec": {
      "name": "python3",
      "display_name": "Python 3"
    },
    "language_info": {
      "name": "python"
    },
    "accelerator": "GPU",
    "gpuClass": "standard"
  },
  "cells": [
    {
      "cell_type": "markdown",
      "metadata": {
        "id": "view-in-github",
        "colab_type": "text"
      },
      "source": [
        "<a href=\"https://colab.research.google.com/github/iamVaibhav100/multilevel_dog_breed_classification/blob/main/dog_vision.ipynb\" target=\"_parent\"><img src=\"https://colab.research.google.com/assets/colab-badge.svg\" alt=\"Open In Colab\"/></a>"
      ]
    },
    {
      "cell_type": "markdown",
      "source": [
        "# End-to-End Multi-level Dog breed Classification\n",
        "\n",
        "Building an end-to-end multi-level dog breed classifier using TensorFlow.\n",
        "\n",
        "### 1. Problem\n",
        "\n",
        "Given an image of a dog, identify the breed.\n",
        "\n",
        "### 2. Data\n",
        "\n",
        "Data used is from Kaggle's dog breed identification competition.\n",
        "\n",
        "Link : https://www.kaggle.com/c/dog-breed-identification/data\n",
        "\n",
        "### 3. Evaluation\n",
        "\n",
        "Evaluation is a file with prediction probabilities for each dog breed of each test image.\n",
        "\n",
        "https://www.kaggle.com/competitions/dog-breed-identification/overview/evaluation\n",
        "\n",
        "### 4. Features\n",
        "\n",
        "Information about the data used:\n",
        "* Data is a collection of images (unstructured data) hence deep learning approach is used.\n",
        "* There are 120 different breeds of dogs available in the data used.\n",
        "* There are around 10,000+ images for training set (labelled data).\n",
        "* There are around 10,000+ images for testing set (no label).\n"
      ],
      "metadata": {
        "id": "bImlR_ywWxCd"
      }
    },
    {
      "cell_type": "code",
      "source": [
        "#!unzip \"drive/MyDrive/Dog_Vision/dog-breed-identification.zip\" -d \"drive/MyDrive/Dog_Vision\""
      ],
      "metadata": {
        "id": "W9XkKBLfU-Ab"
      },
      "execution_count": null,
      "outputs": []
    },
    {
      "cell_type": "code",
      "source": [
        "import tensorflow as tf\n",
        "import tensorflow_hub as hub\n",
        "print(\"version:\", hub.__version__)\n",
        "print(\"version:\", tf.__version__)\n",
        "\n",
        "# checking for GPU avalability\n",
        "print(\"GPU\", \"available\" if tf.config.list_physical_devices(\"GPU\") else \"not available\")"
      ],
      "metadata": {
        "colab": {
          "base_uri": "https://localhost:8080/"
        },
        "id": "oHfmIUrMaKm_",
        "outputId": "d1abb90c-62b3-410d-bff7-061ef81f024b"
      },
      "execution_count": 1,
      "outputs": [
        {
          "output_type": "stream",
          "name": "stdout",
          "text": [
            "version: 0.12.0\n",
            "version: 2.9.2\n",
            "GPU available\n"
          ]
        }
      ]
    },
    {
      "cell_type": "code",
      "source": [],
      "metadata": {
        "id": "y9IrsdyWaWB-"
      },
      "execution_count": null,
      "outputs": []
    }
  ]
}